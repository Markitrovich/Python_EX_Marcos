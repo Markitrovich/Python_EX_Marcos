{
 "cells": [
  {
   "cell_type": "markdown",
   "id": "8d9c3c9a-79fa-4be1-92a7-e991a17effad",
   "metadata": {},
   "source": [
    "Ex1:\n",
    "Write a FizzBuzz Function: Create a function fizzbuzz(n) that takes an integer n as a parameter.\n",
    "2. Implement FizzBuzz Logic: The function should print:\n",
    "○ \"Fizz\" for multiples of 3\n",
    "○ \"Buzz\" for multiples of 5\n",
    "○ \"FizzBuzz\" for multiples of both 3 and 5\n",
    "○ The number itself for other numbers\n",
    "3. Call the Function: Call the function for numbers 1 to 20.\n"
   ]
  },
  {
   "cell_type": "code",
   "execution_count": 5,
   "id": "1410c621-583e-4201-80dd-b28b9b159a87",
   "metadata": {},
   "outputs": [
    {
     "name": "stdout",
     "output_type": "stream",
     "text": [
      "1\n",
      "2\n",
      "Fizz\n",
      "4\n",
      "Buzz\n",
      "Fizz\n",
      "7\n",
      "8\n",
      "Fizz\n",
      "Buzz\n",
      "11\n",
      "Fizz\n",
      "13\n",
      "14\n",
      "FizzBuzz\n",
      "16\n",
      "17\n",
      "Fizz\n",
      "19\n",
      "Buzz\n"
     ]
    }
   ],
   "source": [
    "def fizzbuzz(n):\n",
    "    for i in range(1, n + 1):\n",
    "        if i % 3 == 0 and i % 5 == 0:\n",
    "            print(\"FizzBuzz\")\n",
    "        elif i % 3 == 0:\n",
    "            print(\"Fizz\")\n",
    "        elif i % 5 == 0:\n",
    "            print(\"Buzz\")\n",
    "        else:\n",
    "            print(i)\n",
    "\n",
    "fizzbuzz(20)"
   ]
  },
  {
   "cell_type": "markdown",
   "id": "49e27ed0-4433-4a09-a1e9-304473e300e1",
   "metadata": {},
   "source": [
    "Exercise 2: Basic Data Filtering\n",
    "1. Create a List of Mixed Data Types: Create a list that contains a mix of integers, strings, and floats.\n",
    "2. Filter the List: Use list comprehension to create a new list that contains only the integers from the original list.\n",
    "3. Print the New List: Output the filtered list of integers."
   ]
  },
  {
   "cell_type": "code",
   "execution_count": 3,
   "id": "81db1c02-9623-4584-b2c8-e16747b0d62c",
   "metadata": {},
   "outputs": [
    {
     "name": "stdout",
     "output_type": "stream",
     "text": [
      "[1, 44, 7]\n"
     ]
    }
   ],
   "source": [
    "list = [1, \"Monday\", \"Python\", 3.14, 44, 7, 2.5]\n",
    "integer_list = [n for n in list if isinstance(n, int)]\n",
    "print(integer_list)"
   ]
  },
  {
   "cell_type": "markdown",
   "id": "bdc88ef0-8b4b-4bdd-a796-c908ca8d9083",
   "metadata": {},
   "source": [
    "Ex3:\n",
    "Create an Empty List: Start with an empty list called todo_list.\n",
    "2. Define Functions:\n",
    "○ A function add_task(task) that adds a task to the list.\n",
    "○ A function show_tasks() that prints all tasks in the list."
   ]
  },
  {
   "cell_type": "code",
   "execution_count": 23,
   "id": "a0bcedc8-522f-41b1-a675-d7d0374f7bf5",
   "metadata": {},
   "outputs": [
    {
     "name": "stdout",
     "output_type": "stream",
     "text": [
      "Tasks:\n",
      "1. Python exercises\n",
      "2. Submit exercises\n",
      "3. Groceries\n"
     ]
    }
   ],
   "source": [
    "todo_list = []\n",
    "\n",
    "def add_task(task):\n",
    "    todo_list.append(task)\n",
    "\n",
    "def show_tasks():\n",
    "    if todo_list:\n",
    "        print(\"Tasks:\")\n",
    "        for index, task in enumerate(todo_list, start=1):\n",
    "            print(f\"{index}. {task}\")\n",
    "    else:\n",
    "        print(\"Empty list.\")\n",
    "\n",
    "# Example \n",
    "add_task(\"Python exercises\")\n",
    "add_task(\"Submit exercises\")\n",
    "add_task(\"Groceries\")\n",
    "show_tasks()"
   ]
  },
  {
   "cell_type": "markdown",
   "id": "a10667d2-2ff3-42cf-aa18-6cd64f751489",
   "metadata": {},
   "source": [
    "Ex4:\n",
    "Define a Conversion Function: Write a function celsius_to_fahrenheit(celsius) that converts Celsius to Fahrenheit.\n",
    "2. Print the Result: Output the converted temperature for 22oF, 46oF, 51oF and 76oF."
   ]
  },
  {
   "cell_type": "code",
   "execution_count": 33,
   "id": "e5d1a702-4a5f-40a6-9f00-8c9a6f6a3f21",
   "metadata": {},
   "outputs": [
    {
     "name": "stdout",
     "output_type": "stream",
     "text": [
      "22°C equals 71.6°F\n",
      "46°C equals 114.8°F\n",
      "51°C equals 123.8°F\n",
      "76°C equals 168.8°F\n"
     ]
    }
   ],
   "source": [
    "def celsius_to_fahrenheit(celsius):\n",
    "    return (celsius * 9/5) + 32\n",
    "\n",
    "temperatures_celsius = [22, 46, 51, 76]\n",
    "\n",
    "for temp in temperatures_celsius:\n",
    "    fahrenheit = celsius_to_fahrenheit(temp)\n",
    "    print(f\"{temp}°C equals {fahrenheit}°F\")"
   ]
  }
 ],
 "metadata": {
  "kernelspec": {
   "display_name": "Python 3 (ipykernel)",
   "language": "python",
   "name": "python3"
  },
  "language_info": {
   "codemirror_mode": {
    "name": "ipython",
    "version": 3
   },
   "file_extension": ".py",
   "mimetype": "text/x-python",
   "name": "python",
   "nbconvert_exporter": "python",
   "pygments_lexer": "ipython3",
   "version": "3.12.4"
  }
 },
 "nbformat": 4,
 "nbformat_minor": 5
}
