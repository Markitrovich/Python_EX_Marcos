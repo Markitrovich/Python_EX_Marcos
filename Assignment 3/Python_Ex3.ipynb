{
  "cells": [
    {
      "cell_type": "markdown",
      "id": "24b98369-c7ba-450b-a8b5-e34319000695",
      "metadata": {
        "editable": true,
        "id": "24b98369-c7ba-450b-a8b5-e34319000695",
        "tags": []
      },
      "source": [
        "# Python for Data Science\n",
        "## Session 3\n",
        "### Object Oriented Programming"
      ]
    },
    {
      "cell_type": "markdown",
      "id": "3ace1343-d73d-466d-aa07-56febbb7cbf1",
      "metadata": {
        "editable": true,
        "id": "3ace1343-d73d-466d-aa07-56febbb7cbf1",
        "tags": []
      },
      "source": [
        "---"
      ]
    },
    {
      "cell_type": "markdown",
      "id": "c5ffee69-5d4d-4f1c-9ed7-083afbc931ec",
      "metadata": {
        "editable": true,
        "id": "c5ffee69-5d4d-4f1c-9ed7-083afbc931ec",
        "tags": []
      },
      "source": [
        "## Outline\n",
        "1. Classes and objects\n",
        "2. Abstraction and Inheritance\n",
        "3. Polymorphism and Encapsulation"
      ]
    },
    {
      "cell_type": "markdown",
      "id": "aba315f4-e9bf-4a66-b3d3-593037c3ca70",
      "metadata": {
        "editable": true,
        "id": "aba315f4-e9bf-4a66-b3d3-593037c3ca70",
        "tags": []
      },
      "source": [
        "---"
      ]
    },
    {
      "cell_type": "markdown",
      "id": "8ed45dcb-2cf5-4bfa-ba6e-5da25c59757c",
      "metadata": {
        "editable": true,
        "id": "8ed45dcb-2cf5-4bfa-ba6e-5da25c59757c",
        "tags": []
      },
      "source": [
        "## Object Oriented programming\n",
        "\n",
        "In Data science there are three different types of programming paradigms:\n",
        "\n",
        "1. **Object-oriented programming** organizes code using objects that represent real-world entities. It provides modularity, code reuse and abstraction, making it suitable for handling large and complex applications.\n",
        "\n",
        "2. **Functional programming** emphasizes the use of **pure functions** that can be easily composed and reused, ideal for transforming data.\n",
        "\n",
        "3. **Declarative programming** consists in specifyin what the program should accomplish, rather than how to accomplish it.\n",
        "\n"
      ]
    },
    {
      "cell_type": "markdown",
      "id": "42f9f227-0941-4967-9a4b-c282bb0e4cfc",
      "metadata": {
        "editable": true,
        "id": "42f9f227-0941-4967-9a4b-c282bb0e4cfc",
        "tags": []
      },
      "source": [
        "**Pure functions** are functions that always produce the same output for the same input and haven't got any side effects, meaning it does not modify external states or variables."
      ]
    },
    {
      "cell_type": "markdown",
      "id": "00b01ced-eda7-423f-8522-96bd3f1a4125",
      "metadata": {
        "editable": true,
        "id": "00b01ced-eda7-423f-8522-96bd3f1a4125",
        "tags": []
      },
      "source": [
        "---"
      ]
    },
    {
      "cell_type": "markdown",
      "id": "9434c993-aac1-4655-bf69-477b9dc5d2ee",
      "metadata": {
        "editable": true,
        "id": "9434c993-aac1-4655-bf69-477b9dc5d2ee",
        "tags": []
      },
      "source": [
        "## Object Oriented programming\n",
        "\n",
        "OOP main concepts are:\n",
        "\n",
        "1. **Class**: A template to create objects.\n",
        "2. **Object**: An instance of a class, representing a specific entity.\n",
        "3. **Attributes**: Properties of an object (variables within a class that define it).\n",
        "4. **Methods**: Actions that objects can perform (functions within a class)."
      ]
    },
    {
      "cell_type": "code",
      "execution_count": null,
      "id": "1e350f15-ae19-4323-a1c6-25d80118a5f3",
      "metadata": {
        "editable": true,
        "id": "1e350f15-ae19-4323-a1c6-25d80118a5f3",
        "tags": []
      },
      "outputs": [],
      "source": [
        "class Pet:\n",
        "    pass  # Empty class as a placeholder"
      ]
    },
    {
      "cell_type": "code",
      "execution_count": null,
      "id": "2e427c6d-a0fc-47de-a6e8-de71ae500619",
      "metadata": {
        "editable": true,
        "id": "2e427c6d-a0fc-47de-a6e8-de71ae500619",
        "tags": []
      },
      "outputs": [],
      "source": [
        "my_pet = Pet() # Instance of a class"
      ]
    },
    {
      "cell_type": "code",
      "execution_count": null,
      "id": "1cda9d57-aedb-4e70-af5b-7193174a2430",
      "metadata": {
        "editable": true,
        "id": "1cda9d57-aedb-4e70-af5b-7193174a2430",
        "tags": []
      },
      "outputs": [],
      "source": [
        "# Note: self refers to the instance of the class and is used to access its attributes and methods\n",
        "class Pet:\n",
        "    def __init__(self, name): # constructor\n",
        "        self.name = name"
      ]
    },
    {
      "cell_type": "code",
      "execution_count": null,
      "id": "c4f13ca9-dd0a-4b53-8f30-5a507979b1ed",
      "metadata": {
        "editable": true,
        "id": "c4f13ca9-dd0a-4b53-8f30-5a507979b1ed",
        "tags": []
      },
      "outputs": [],
      "source": [
        "class Pet:\n",
        "    def __init__(self, name): # constructor\n",
        "        self.name = name # Instance attribute\n",
        "        self.age = None # Instance attribute set to None\n",
        "\n",
        "    def set_age(self, age): # Method\n",
        "        self.age = age"
      ]
    },
    {
      "cell_type": "markdown",
      "id": "92887f1e-c2b9-4abc-9324-af4c15250c3a",
      "metadata": {
        "editable": true,
        "id": "92887f1e-c2b9-4abc-9324-af4c15250c3a",
        "tags": []
      },
      "source": [
        "---"
      ]
    },
    {
      "cell_type": "markdown",
      "id": "d6c81e01-e268-4490-b970-b9f3d7a08d30",
      "metadata": {
        "editable": true,
        "id": "d6c81e01-e268-4490-b970-b9f3d7a08d30",
        "tags": []
      },
      "source": [
        "## Object Oriented programming\n",
        "### Abstraction\n",
        "\n",
        "Abstraction consists in hiding any variables and internal parts of an object that don’t need to be shown during interaction. Making only available the essential functionalities.\n",
        "\n",
        "You may want to call a method from an object that searches for something in an internal list, and in this case, you don't need to see the algorithm behind it, you just need to call the method and get what you want."
      ]
    },
    {
      "cell_type": "markdown",
      "id": "23e1e6b4-322a-4cd5-8a82-72877cc98804",
      "metadata": {
        "editable": true,
        "id": "23e1e6b4-322a-4cd5-8a82-72877cc98804",
        "tags": []
      },
      "source": [
        "## Object Oriented programming\n",
        "### Inheritance\n",
        "\n",
        "Inheritance permits any class to inherit attributes and methods from another class. This reduces code duplication and enables the creation of specialized classes based on general ones."
      ]
    },
    {
      "cell_type": "code",
      "execution_count": null,
      "id": "76c58110-a965-432f-8dcf-f457079fec65",
      "metadata": {
        "editable": true,
        "id": "76c58110-a965-432f-8dcf-f457079fec65",
        "tags": []
      },
      "outputs": [],
      "source": [
        "class Pet:\n",
        "    def __init__(self, age, name): # Constructor\n",
        "        self.age = age # Attribute\n",
        "        self.name = name # Attribute\n",
        "\n",
        "    def describe(self): # Method\n",
        "        print(f\"This pet's name is {self.name}.\")\n",
        "\n",
        "class Dog(Pet):\n",
        "    def __init__(self, age, name, breed): # Constructor\n",
        "        super().__init__(age, name)  # Call the parent class's __init__ method\n",
        "        self.breed = breed # New attribute for this specialized class\n",
        "\n",
        "    def describe(self):\n",
        "        super().describe()  # Call the parent class's describe method\n",
        "        print(f\"This dog is {self.age} years old and is a {self.breed}.\")"
      ]
    },
    {
      "cell_type": "code",
      "execution_count": null,
      "id": "48301f74-ece3-49ec-9332-2c168743ebc8",
      "metadata": {
        "editable": true,
        "id": "48301f74-ece3-49ec-9332-2c168743ebc8",
        "tags": []
      },
      "outputs": [],
      "source": [
        "my_dog = Dog(3, 'Rock', 'Great Dane')"
      ]
    },
    {
      "cell_type": "code",
      "execution_count": null,
      "id": "eae7678f-665a-4916-96d2-3926a312aea5",
      "metadata": {
        "editable": true,
        "id": "eae7678f-665a-4916-96d2-3926a312aea5",
        "outputId": "3abb92a2-d911-43f9-bf4b-bb7ecdaf371f",
        "tags": []
      },
      "outputs": [
        {
          "name": "stdout",
          "output_type": "stream",
          "text": [
            "This pet's name is Rock.\n",
            "This dog is 3 years old and is a Great Dane.\n"
          ]
        }
      ],
      "source": [
        "my_dog.describe()"
      ]
    },
    {
      "cell_type": "markdown",
      "id": "220f9368-0c1a-4ac8-9785-a33b11e5df77",
      "metadata": {
        "editable": true,
        "id": "220f9368-0c1a-4ac8-9785-a33b11e5df77",
        "tags": []
      },
      "source": [
        "---"
      ]
    },
    {
      "cell_type": "markdown",
      "id": "88ff8053-d1d0-4c08-b8e5-6c84e94c4f24",
      "metadata": {
        "editable": true,
        "id": "88ff8053-d1d0-4c08-b8e5-6c84e94c4f24",
        "tags": []
      },
      "source": [
        "## Object Oriented programming\n",
        "### Polymorphism\n",
        "\n",
        "It allows the same method name to behave differently based on the object calling it, which can be achieved through method overriding."
      ]
    },
    {
      "cell_type": "code",
      "execution_count": null,
      "id": "db4cd9e2-0188-4511-a81b-070221d74af5",
      "metadata": {
        "editable": true,
        "id": "db4cd9e2-0188-4511-a81b-070221d74af5",
        "tags": []
      },
      "outputs": [],
      "source": [
        "class Cat(Pet):\n",
        "    def __init__(self, age, name, breed): # Constructor\n",
        "        super().__init__(age, name)  # Call the parent class's __init__ method\n",
        "        self.breed = breed # New attribute for this specialized class\n",
        "\n",
        "    def describe(self): # Method\n",
        "        print(f\"This super cat is {self.age} years old and is a {self.breed}.\")"
      ]
    },
    {
      "cell_type": "code",
      "execution_count": null,
      "id": "ced1143b-98db-46db-8e90-fed185aad835",
      "metadata": {
        "editable": true,
        "id": "ced1143b-98db-46db-8e90-fed185aad835",
        "outputId": "3c3d99c3-5191-40d9-a25c-9d4516c6ca93",
        "tags": []
      },
      "outputs": [
        {
          "name": "stdout",
          "output_type": "stream",
          "text": [
            "This super cat is 7 years old and is a Siamese.\n"
          ]
        }
      ],
      "source": [
        "my_cat = Cat(7, 'Bella', 'Siamese')\n",
        "my_cat.describe()"
      ]
    },
    {
      "cell_type": "markdown",
      "id": "cd327548-f048-4d39-9b72-6dff6cd6963d",
      "metadata": {
        "editable": true,
        "id": "cd327548-f048-4d39-9b72-6dff6cd6963d",
        "tags": []
      },
      "source": [
        "---"
      ]
    },
    {
      "cell_type": "markdown",
      "id": "854b31bb-2b21-42fd-939a-f82f71a549f0",
      "metadata": {
        "editable": true,
        "id": "854b31bb-2b21-42fd-939a-f82f71a549f0",
        "tags": []
      },
      "source": [
        "## Object Oriented programming\n",
        "### Encapsulation\n",
        "\n",
        "It consists in restricting access to variables and methods outside the object. This way we ensure the integrity of the data within the object.\n",
        "\n",
        "In python, prefixing a variable or method name with an underscore **_** indicates that it is intended for internal use only, while a double underscore **__** modifies the variable name for better encapsulation.\n",
        "\n",
        "It is worth mentioning that this is a convention, and variables and methods are still accessible."
      ]
    },
    {
      "cell_type": "code",
      "execution_count": null,
      "id": "33e1bdf2-8798-41f1-9ed3-957c730dc9ad",
      "metadata": {
        "editable": true,
        "id": "33e1bdf2-8798-41f1-9ed3-957c730dc9ad",
        "tags": []
      },
      "outputs": [],
      "source": [
        "class Student:\n",
        "    def __init__(self, name, age, address=None):\n",
        "        self.name = name # Public attribute\n",
        "        self._age =   age # Private attribute\n",
        "        self._address = address  # Private attribute\n",
        "\n",
        "    def get_address(self): # Method\n",
        "        return self._address\n",
        "\n",
        "    def set_address(self, address): # Method\n",
        "        address = ''.join(filter(self._remove_special_characters, address))\n",
        "        self._address = address\n",
        "\n",
        "    def _remove_special_characters(self, character): # Private method\n",
        "        if character.isalnum() or character == ' ' or character == '-':\n",
        "            return True\n",
        "        else:\n",
        "            return False\n"
      ]
    },
    {
      "cell_type": "code",
      "execution_count": null,
      "id": "a4e46c71-63e9-474e-91a6-9d9a323636dc",
      "metadata": {
        "editable": true,
        "id": "a4e46c71-63e9-474e-91a6-9d9a323636dc",
        "outputId": "f3fdcc29-3661-46e6-e645-397a94c9874c",
        "tags": []
      },
      "outputs": [
        {
          "name": "stdout",
          "output_type": "stream",
          "text": [
            "The student named Joan has the following address: Avinguda Buenos Aires nº 31 7e-1a\n"
          ]
        }
      ],
      "source": [
        "student = Student(\"Joan\", 24)\n",
        "student.set_address(\"Avinguda Buenos Aires nº 31! 7e-1a\")\n",
        "print(f\"The student named {student.name} has the following address: {student.get_address()}\")"
      ]
    },
    {
      "cell_type": "markdown",
      "id": "f4552012-e0e9-40af-8801-69d83733d433",
      "metadata": {
        "editable": true,
        "id": "f4552012-e0e9-40af-8801-69d83733d433",
        "tags": []
      },
      "source": [
        "---"
      ]
    },
    {
      "cell_type": "markdown",
      "id": "42f8be9a-cc71-4a58-97ac-1a54219a2d72",
      "metadata": {
        "editable": true,
        "id": "42f8be9a-cc71-4a58-97ac-1a54219a2d72",
        "tags": []
      },
      "source": [
        "## Object Oriented programming\n",
        "### Hands on\n",
        "\n",
        "Let's design a course registration system, where the requirements will be:\n",
        "\n",
        "1. Create a **Course** class, where each course has a name, a description and a list of enrolled students. You'll need to implement the next methods:\n",
        "    - Add a student to the course.\n",
        "    - Remove a student from the course.\n",
        "    - Show all students in the course."
      ]
    },
    {
      "cell_type": "code",
      "execution_count": 1,
      "id": "f97f6dd7",
      "metadata": {},
      "outputs": [],
      "source": [
        "class Course:\n",
        "    def __init__(self, name, course_type):\n",
        "        self.name = name\n",
        "        self.course_type = course_type\n",
        "        self.students = []  # List to store enrolled students as dictionaries\n",
        "\n",
        "    def add_student(self, first_name, last_name): # Check if a student with the same last name is already enrolled\n",
        "        for student in self.students:\n",
        "            if student['last_name'] == last_name:\n",
        "                print(f\"{first_name} {last_name} is already enrolled in the course.\")\n",
        "                return\n",
        "\n",
        "        # Add student if no duplicate last name is found\n",
        "        self.students.append({'first_name': first_name, 'last_name': last_name})\n",
        "        print(f\"{first_name} {last_name} has been added to the course {self.name}.\")\n",
        "\n",
        "    def remove_student(self, first_name, last_name): # Check if the student is in the list \n",
        "        for student in self.students:\n",
        "            if student['first_name'] == first_name and student['last_name'] == last_name:\n",
        "                self.students.remove(student)\n",
        "                print(f\"{first_name} {last_name} has been removed from the course.\")\n",
        "                return\n",
        "        print(f\"{first_name} {last_name} is not enrolled in the course.\")\n",
        "\n",
        "    def show_students(self):\n",
        "        if self.students:\n",
        "            print(f\"Students enrolled in {self.name} ({self.course_type}):\")\n",
        "            for student in self.students:  # Iterate through the list of students\n",
        "                print(f\"- {student['first_name']} {student['last_name']}\")\n",
        "        else:\n",
        "            print(f\"No students are enrolled in course: {self.name} ({self.course_type}).\")\n",
        "\n"
      ]
    },
    {
      "cell_type": "markdown",
      "id": "b320dd44",
      "metadata": {},
      "source": [
        "## Example:\n",
        "\n",
        "Assumption: people attending our courses have different last names"
      ]
    },
    {
      "cell_type": "code",
      "execution_count": 2,
      "id": "fae480e3",
      "metadata": {},
      "outputs": [
        {
          "name": "stdout",
          "output_type": "stream",
          "text": [
            "Marcos Dumortier has been added to the course Business in Society.\n",
            "Marcos Lopez has been added to the course Business in Society.\n",
            "Marcos Wonderland has been added to the course Business in Society.\n",
            "Marcos Wonderland is already enrolled in the course.\n",
            "Marcos Wonderland has been removed from the course.\n",
            "Tic Tac is not enrolled in the course.\n",
            "Students enrolled in Business in Society (Python):\n",
            "- Marcos Dumortier\n",
            "- Marcos Lopez\n"
          ]
        }
      ],
      "source": [
        "# Create a new course instance\n",
        "course = Course(\"Business in Society\", \"Python\")\n",
        "\n",
        "# Add students to the course\n",
        "course.add_student(\"Marcos\", \"Dumortier\")\n",
        "course.add_student(\"Marcos\", \"Lopez\")\n",
        "course.add_student(\"Marcos\", \"Wonderland\")  # Different last name is allowed\n",
        "course.add_student(\"Marcos\", \"Wonderland\")    # Duplicate last name, should trigger a message\n",
        "\n",
        "# Remove a student from the course\n",
        "course.remove_student(\"Marcos\", \"Wonderland\")  # Removes \"Alice Smith\"\n",
        "course.remove_student(\"Tic\", \"Tac\")  # Attempt to remove a non-enrolled student\n",
        "\n",
        "# Display all students currently enrolled\n",
        "course.show_students()\n"
      ]
    },
    {
      "cell_type": "markdown",
      "id": "16cc578c-9fe3-4478-81da-3071e3adb318",
      "metadata": {
        "editable": true,
        "id": "16cc578c-9fe3-4478-81da-3071e3adb318",
        "tags": []
      },
      "source": [
        "## Object Oriented programming\n",
        "### Hands on\n",
        "\n",
        "2. Create a **Student** class, where each student has a name, ID number, address and a list of enrolled courses with the following methods:\n",
        "    - Enroll in a course.\n",
        "    - Drop a course.\n",
        "    - Show all registered student courses."
      ]
    },
    {
      "cell_type": "code",
      "execution_count": 3,
      "id": "fe4cce31-1ddf-4847-bc8d-924dc3e0dfe1",
      "metadata": {
        "editable": true,
        "id": "fe4cce31-1ddf-4847-bc8d-924dc3e0dfe1",
        "tags": []
      },
      "outputs": [],
      "source": [
        "class Student:\n",
        "    def __init__(self, name, student_id):\n",
        "        self.name = name\n",
        "        self.student_id = student_id\n",
        "        self.courses = set()  # Using a set to store courses for quick lookup and prevent duplicates\n",
        "\n",
        "    def enroll_in_course(self, course):\n",
        "        if course in self.courses:\n",
        "            print(f\"{self.name} (ID: {self.student_id}) is already enrolled in {course}.\")\n",
        "        else:\n",
        "            self.courses.add(course)\n",
        "            print(f\"{self.name} (ID: {self.student_id}) has been enrolled in {course}.\")\n",
        "\n",
        "    def drop_course(self, course):\n",
        "        if course in self.courses:\n",
        "            self.courses.remove(course)\n",
        "            print(f\"{self.name} (ID: {self.student_id}) has dropped {course}.\")\n",
        "        else:\n",
        "            print(f\"{self.name} (ID: {self.student_id}) is not enrolled in {course}.\")\n",
        "\n",
        "    def show_courses(self):\n",
        "        if self.courses:\n",
        "            print(f\"Courses enrolled by {self.name} (ID: {self.student_id}):\")\n",
        "            for course in self.courses:\n",
        "                print(f\"- {course}\")\n",
        "        else:\n",
        "            print(f\"{self.name} (ID: {self.student_id}) is not enrolled in any courses.\")\n",
        "\n"
      ]
    },
    {
      "cell_type": "markdown",
      "id": "306fcb8c",
      "metadata": {},
      "source": [
        "## Example:"
      ]
    },
    {
      "cell_type": "code",
      "execution_count": 10,
      "id": "fcade8e4",
      "metadata": {},
      "outputs": [
        {
          "name": "stdout",
          "output_type": "stream",
          "text": [
            "Marcos Dumortier (ID: 23) has been enrolled in Bis.\n",
            "Marcos Dumortier (ID: 23) has been enrolled in Python.\n",
            "Marcos Lopez (ID: 13) has been enrolled in R.\n",
            "Marcos Lopez (ID: 13) has been enrolled in Bis.\n",
            "Marcos Dumortier (ID: 23) is already enrolled in Bis.\n",
            "Marcos Dumortier (ID: 23) has dropped Python.\n",
            "Marcos Lopez (ID: 13) is not enrolled in History.\n",
            "Courses enrolled by Marcos Dumortier (ID: 23):\n",
            "- Bis\n",
            "Courses enrolled by Marcos Lopez (ID: 13):\n",
            "- R\n",
            "- Bis\n"
          ]
        }
      ],
      "source": [
        "student1 = Student(\"Marcos Dumortier\", \"23\")\n",
        "student2 = Student(\"Marcos Lopez\", \"13\")\n",
        "\n",
        "# Enrolling students in courses\n",
        "student1.enroll_in_course(\"Bis\")\n",
        "student1.enroll_in_course(\"Python\")\n",
        "student2.enroll_in_course(\"R\")\n",
        "student2.enroll_in_course(\"Bis\")\n",
        "\n",
        "# Can't enroll a student twice in the same course:\n",
        "student1.enroll_in_course(\"Bis\")\n",
        "\n",
        "# Drop a course for student1 and attempt to drop a non-enrolled course for student2\n",
        "student1.drop_course(\"Python\")\n",
        "student2.drop_course(\"History\")\n",
        "\n",
        "# Show courses for both students\n",
        "student1.show_courses()\n",
        "student2.show_courses()"
      ]
    },
    {
      "cell_type": "markdown",
      "id": "5c54b2fe-691f-4520-b8d6-2515ba92b808",
      "metadata": {
        "editable": true,
        "id": "5c54b2fe-691f-4520-b8d6-2515ba92b808",
        "tags": []
      },
      "source": [
        "## Object Oriented programming\n",
        "### Hands on\n",
        "\n",
        "3. Create a central class that manages courses and students, **Registration** class, where you have a list of students and a list of courses, and methods:\n",
        "    - Enroll in a course.\n",
        "    - Drop a course.\n",
        "    - Show all the enrolled courses.\n",
        "    - Show all the students."
      ]
    },
    {
      "cell_type": "code",
      "execution_count": 6,
      "id": "863f30c7-3cf8-4ac9-8599-e7df8e0d483c",
      "metadata": {
        "editable": true,
        "id": "863f30c7-3cf8-4ac9-8599-e7df8e0d483c",
        "tags": []
      },
      "outputs": [],
      "source": [
        "class Registrar:\n",
        "    def __init__(self):\n",
        "        self.students = {}  \n",
        "        self.courses = {}   \n",
        "\n",
        "    def add_student(self, name, student_id):# Add a student to the system\n",
        "        if student_id not in self.students:# Check if the student is already registered\n",
        "            self.students[student_id] = Student(name, student_id)\n",
        "            print(f\"Student {name} (ID: {student_id}) has been added.\")\n",
        "        else:\n",
        "            print(f\"Student ID {student_id} already exists.\")\n",
        "\n",
        "    def add_course(self, course_name, course_type):# Add a course to the system\n",
        "        if course_name not in self.courses:# Check if the course is already added\n",
        "            self.courses[course_name] = Course(course_name, course_type)\n",
        "            print(f\"Course {course_name} ({course_type}) has been added.\")\n",
        "        else:\n",
        "            print(f\"Course {course_name} already exists.\")\n",
        "\n",
        "    def enroll_student_in_course(self, student_id, course_name):# Enroll a student in a course\n",
        "        student = self.students.get(student_id)\n",
        "        course = self.courses.get(course_name)\n",
        "        if student and course:# Check if both exist\n",
        "            student.enroll_in_course(course_name)\n",
        "            course.add_student(student.name, student_id)\n",
        "        else:\n",
        "            print(\"Invalid student ID or course name.\")\n",
        "\n",
        "    def drop_student_from_course(self, student_id, course_name):# Drop a student from a course\n",
        "        student = self.students.get(student_id)\n",
        "        course = self.courses.get(course_name)\n",
        "        if student and course:\n",
        "            student.drop_course(course_name)# Drop the course for the student\n",
        "            course.remove_student(student.name, student_id)# Remove the student from the course\n",
        "        else:\n",
        "            print(\"Invalid student ID or course name.\")\n",
        "\n",
        "    def show_all_courses(self):# Show all courses with enrolled students\n",
        "        for course in self.courses.values():\n",
        "            course.show_students()\n",
        "\n",
        "    def show_all_students(self):# show all students with their enrolled courses\n",
        "        for student in self.students.values():\n",
        "            student.show_courses()\n",
        "\n"
      ]
    },
    {
      "cell_type": "markdown",
      "id": "01c4dbf9",
      "metadata": {},
      "source": [
        "## Example:"
      ]
    },
    {
      "cell_type": "code",
      "execution_count": 11,
      "id": "30dbdf53",
      "metadata": {},
      "outputs": [
        {
          "name": "stdout",
          "output_type": "stream",
          "text": [
            "Student Marcos Dumortier (ID: 23) has been added.\n",
            "Student Marcos Lopez (ID: 13) has been added.\n",
            "Course Bis (Core) has been added.\n",
            "Course Python (Elective) has been added.\n",
            "Marcos Dumortier (ID: 23) has been enrolled in Bis.\n",
            "Marcos Dumortier 23 has been added to the course Bis.\n",
            "Marcos Lopez (ID: 13) has been enrolled in Python.\n",
            "Marcos Lopez 13 has been added to the course Python.\n",
            "Marcos Dumortier (ID: 23) has been enrolled in Python.\n",
            "Marcos Dumortier 23 has been added to the course Python.\n",
            "Students enrolled in Bis (Core):\n",
            "- Marcos Dumortier 23\n",
            "Students enrolled in Python (Elective):\n",
            "- Marcos Lopez 13\n",
            "- Marcos Dumortier 23\n",
            "Courses enrolled by Marcos Dumortier (ID: 23):\n",
            "- Python\n",
            "- Bis\n",
            "Courses enrolled by Marcos Lopez (ID: 13):\n",
            "- Python\n"
          ]
        }
      ],
      "source": [
        "# Create a registrar instance\n",
        "registrar = Registrar()\n",
        "\n",
        "# Add students\n",
        "registrar.add_student(\"Marcos Dumortier\", \"23\")\n",
        "registrar.add_student(\"Marcos Lopez\", \"13\")\n",
        "\n",
        "# Add courses\n",
        "registrar.add_course(\"Bis\", \"Core\")\n",
        "registrar.add_course(\"Python\", \"Elective\")\n",
        "\n",
        "# Enroll students in courses\n",
        "registrar.enroll_student_in_course(\"23\", \"Bis\")\n",
        "registrar.enroll_student_in_course(\"13\", \"Python\")\n",
        "registrar.enroll_student_in_course(\"23\", \"Python\")\n",
        "\n",
        "# Show all courses with enrolled students\n",
        "registrar.show_all_courses()\n",
        "\n",
        "# Show all students with their enrolled courses\n",
        "registrar.show_all_students()\n"
      ]
    },
    {
      "cell_type": "markdown",
      "id": "2958b01b-3472-4c95-ae1f-771edc638749",
      "metadata": {
        "editable": true,
        "id": "2958b01b-3472-4c95-ae1f-771edc638749",
        "tags": []
      },
      "source": [
        "## Object Oriented programming\n",
        "### Howework\n",
        "\n",
        "4. Let's add grades to each student's course and create method that yields the GPA given a student name or ID."
      ]
    },
    {
      "cell_type": "markdown",
      "id": "3f6ceffe",
      "metadata": {},
      "source": [
        "Updating the Student class to store courses and their corresponding grades. "
      ]
    },
    {
      "cell_type": "code",
      "execution_count": 12,
      "id": "d8fe6c70",
      "metadata": {},
      "outputs": [],
      "source": [
        "class Student:\n",
        "    def __init__(self, name, student_id):\n",
        "        self.name = name\n",
        "        self.student_id = student_id\n",
        "        self.courses = {}  # Dictionary to store courses with grades\n",
        "\n",
        "    def enroll_in_course(self, course):\n",
        "        if course not in self.courses:\n",
        "            self.courses[course] = None  # Initialize with no grade\n",
        "            print(f\"{self.name} (ID: {self.student_id}) has been enrolled in {course}.\")\n",
        "        else:\n",
        "            print(f\"{self.name} (ID: {self.student_id}) is already enrolled in {course}.\")\n",
        "\n",
        "    def drop_course(self, course):\n",
        "        if course in self.courses:\n",
        "            del self.courses[course]\n",
        "            print(f\"{self.name} (ID: {self.student_id}) has dropped {course}.\")\n",
        "        else:\n",
        "            print(f\"{self.name} (ID: {self.student_id}) is not enrolled in {course}.\")\n",
        "\n",
        "    def assign_grade(self, course, grade):#Assign a grade to a course the student is enrolled in.\n",
        "        if course in self.courses:\n",
        "            self.courses[course] = grade\n",
        "            print(f\"Grade {grade} assigned to {course} for {self.name}.\")\n",
        "        else:\n",
        "            print(f\"{self.name} is not enrolled in {course}.\")\n",
        "\n",
        "    def calculate_gpa(self):#Calculate and return the GPA.\n",
        "        graded_courses = [grade for grade in self.courses.values() if grade is not None]\n",
        "        if graded_courses:\n",
        "            gpa = sum(graded_courses) / len(graded_courses)\n",
        "            return round(gpa, 2)  # Rounded GPA to 2 decimal\n",
        "        else:\n",
        "            print(f\"No grades available for {self.name}\")\n",
        "            return None\n",
        "\n",
        "    def show_courses(self):#Display all courses with grades if available.\n",
        "        if self.courses:\n",
        "            print(f\"Courses enrolled by {self.name} (ID: {self.student_id}):\")\n",
        "            for course, grade in self.courses.items():\n",
        "                if grade is not None:\n",
        "                    print(f\"- {course}: Grade {grade}\")\n",
        "                else:\n",
        "                    print(f\"- {course}: No grade assigned\")\n",
        "        else:\n",
        "            print(f\"{self.name} (ID: {self.student_id}) is not enrolled in any courses.\")"
      ]
    },
    {
      "cell_type": "markdown",
      "id": "8ea80638",
      "metadata": {},
      "source": [
        "Updated Registrar Class with GPA "
      ]
    },
    {
      "cell_type": "code",
      "execution_count": 13,
      "id": "377765be",
      "metadata": {},
      "outputs": [],
      "source": [
        "class Registrar:\n",
        "    def __init__(self):\n",
        "        self.students = {}  \n",
        "        self.courses = {}   \n",
        "\n",
        "    def add_student(self, name, student_id):\n",
        "        if student_id not in self.students:\n",
        "            self.students[student_id] = Student(name, student_id)\n",
        "            print(f\"Student {name} (ID: {student_id}) has been added.\")\n",
        "        else:\n",
        "            print(f\"Student ID {student_id} already exists.\")\n",
        "\n",
        "    def add_course(self, course_name, course_type):\n",
        "        if course_name not in self.courses:\n",
        "            self.courses[course_name] = Course(course_name, course_type)\n",
        "            print(f\"Course {course_name} ({course_type}) has been added.\")\n",
        "        else:\n",
        "            print(f\"Course {course_name} already exists.\")\n",
        "\n",
        "    def enroll_student_in_course(self, student_id, course_name):\n",
        "        student = self.students.get(student_id)\n",
        "        course = self.courses.get(course_name)\n",
        "        if student and course:\n",
        "            student.enroll_in_course(course_name)\n",
        "            course.add_student(student.name, student_id)\n",
        "        else:\n",
        "            print(\"Invalid student ID or course name.\")\n",
        "\n",
        "    def drop_student_from_course(self, student_id, course_name):\n",
        "        student = self.students.get(student_id)\n",
        "        course = self.courses.get(course_name)\n",
        "        if student and course:\n",
        "            student.drop_course(course_name)\n",
        "            course.remove_student(student.name, student_id)\n",
        "        else:\n",
        "            print(\"Invalid student ID or course name.\")\n",
        "\n",
        "    def assign_grade(self, student_id, course_name, grade):#Assign a grade to a specific course for a student.\n",
        "        student = self.students.get(student_id)\n",
        "        if student:\n",
        "            student.assign_grade(course_name, grade)\n",
        "        else:\n",
        "            print(f\"Student ID {student_id} not found.\")\n",
        "\n",
        "    def get_gpa(self, student_id):#Retrieve and display the GPA of a student by ID.\n",
        "        student = self.students.get(student_id)\n",
        "        if student:\n",
        "            gpa = student.calculate_gpa()\n",
        "            if gpa is not None:\n",
        "                print(f\"{student.name} (ID: {student_id}) has a GPA of: {gpa}\")\n",
        "            else:\n",
        "                print(f\"GPA for {student.name} (ID: {student_id}) cannot be calculated.\")\n",
        "        else:\n",
        "            print(f\"Student ID {student_id} not found.\")\n",
        "\n",
        "    def show_all_courses(self):\n",
        "        for course in self.courses.values():\n",
        "            course.show_students()\n",
        "\n",
        "    def show_all_students(self):\n",
        "        for student in self.students.values():\n",
        "            student.show_courses()\n"
      ]
    },
    {
      "cell_type": "markdown",
      "id": "c31e4cf7",
      "metadata": {},
      "source": [
        "## Example:"
      ]
    },
    {
      "cell_type": "code",
      "execution_count": 14,
      "id": "7d7064f8",
      "metadata": {},
      "outputs": [
        {
          "name": "stdout",
          "output_type": "stream",
          "text": [
            "Student Marcos Dumortier (ID: 23) has been added.\n",
            "Student Marcos Lopez (ID: 13) has been added.\n",
            "Course Bis (Core) has been added.\n",
            "Course Python (Elective) has been added.\n",
            "Marcos Dumortier (ID: 23) has been enrolled in Bis.\n",
            "Marcos Dumortier 23 has been added to the course Bis.\n",
            "Marcos Lopez (ID: 13) has been enrolled in Python.\n",
            "Marcos Lopez 13 has been added to the course Python.\n",
            "Marcos Dumortier (ID: 23) has been enrolled in Python.\n",
            "Marcos Dumortier 23 has been added to the course Python.\n",
            "Grade 3.7 assigned to Bis for Marcos Dumortier.\n",
            "Grade 3.5 assigned to Python for Marcos Lopez.\n",
            "Grade 3.9 assigned to Python for Marcos Dumortier.\n",
            "Students enrolled in Bis (Core):\n",
            "- Marcos Dumortier 23\n",
            "Students enrolled in Python (Elective):\n",
            "- Marcos Lopez 13\n",
            "- Marcos Dumortier 23\n",
            "Courses enrolled by Marcos Dumortier (ID: 23):\n",
            "- Bis: Grade 3.7\n",
            "- Python: Grade 3.9\n",
            "Courses enrolled by Marcos Lopez (ID: 13):\n",
            "- Python: Grade 3.5\n",
            "Marcos Dumortier (ID: 23) has a GPA of: 3.8\n",
            "Marcos Lopez (ID: 13) has a GPA of: 3.5\n"
          ]
        }
      ],
      "source": [
        "\n",
        "registrar = Registrar()\n",
        "\n",
        "\n",
        "registrar.add_student(\"Marcos Dumortier\", \"23\")\n",
        "registrar.add_student(\"Marcos Lopez\", \"13\")\n",
        "\n",
        "\n",
        "registrar.add_course(\"Bis\", \"Core\")\n",
        "registrar.add_course(\"Python\", \"Elective\")\n",
        "\n",
        "\n",
        "registrar.enroll_student_in_course(\"23\", \"Bis\")\n",
        "registrar.enroll_student_in_course(\"13\", \"Python\")\n",
        "registrar.enroll_student_in_course(\"23\", \"Python\")\n",
        "\n",
        "# Assign grades to courses\n",
        "registrar.assign_grade(\"23\", \"Bis\", 3.7)\n",
        "registrar.assign_grade(\"13\", \"Python\", 3.5)\n",
        "registrar.assign_grade(\"23\", \"Python\", 3.9)\n",
        "\n",
        "# Show all courses with enrolled students\n",
        "registrar.show_all_courses()\n",
        "\n",
        "# Show all students with their enrolled courses and grades\n",
        "registrar.show_all_students()\n",
        "\n",
        "# Calculate and display GPA for a specific student\n",
        "registrar.get_gpa(\"23\")\n",
        "registrar.get_gpa(\"13\")\n"
      ]
    },
    {
      "cell_type": "markdown",
      "id": "76c565a9-dc30-464c-980d-d522cd5246f4",
      "metadata": {
        "editable": true,
        "id": "76c565a9-dc30-464c-980d-d522cd5246f4",
        "tags": []
      },
      "source": [
        "## That's all!"
      ]
    }
  ],
  "metadata": {
    "colab": {
      "provenance": []
    },
    "kernelspec": {
      "display_name": "base",
      "language": "python",
      "name": "python3"
    },
    "language_info": {
      "codemirror_mode": {
        "name": "ipython",
        "version": 3
      },
      "file_extension": ".py",
      "mimetype": "text/x-python",
      "name": "python",
      "nbconvert_exporter": "python",
      "pygments_lexer": "ipython3",
      "version": "3.12.2"
    }
  },
  "nbformat": 4,
  "nbformat_minor": 5
}
