{
 "cells": [
  {
   "cell_type": "code",
   "execution_count": null,
   "id": "048e1045-c48f-4756-a7dd-b7b351f562af",
   "metadata": {},
   "outputs": [],
   "source": [
    "#Ex1:"
   ]
  },
  {
   "cell_type": "code",
   "execution_count": null,
   "id": "224d6d72-07ff-4ec4-906d-122d065850ef",
   "metadata": {},
   "outputs": [],
   "source": [
    "#Write a FizzBuzz Function: Create a function fizzbuzz(n) that takes an integer n as a parameter.\n",
    "#2. Implement FizzBuzz Logic: The function should print:\n",
    "#○ \"Fizz\" for multiples of 3\n",
    "#○ \"Buzz\" for multiples of 5\n",
    "#○ \"FizzBuzz\" for multiples of both 3 and 5\n",
    "#○ The number itself for other numbers\n",
    "#3. Call the Function: Call the function for numbers 1 to 20.\n"
   ]
  },
  {
   "cell_type": "code",
   "execution_count": 5,
   "id": "1410c621-583e-4201-80dd-b28b9b159a87",
   "metadata": {},
   "outputs": [
    {
     "name": "stdout",
     "output_type": "stream",
     "text": [
      "1\n",
      "2\n",
      "Fizz\n",
      "4\n",
      "Buzz\n",
      "Fizz\n",
      "7\n",
      "8\n",
      "Fizz\n",
      "Buzz\n",
      "11\n",
      "Fizz\n",
      "13\n",
      "14\n",
      "FizzBuzz\n",
      "16\n",
      "17\n",
      "Fizz\n",
      "19\n",
      "Buzz\n"
     ]
    }
   ],
   "source": [
    "def fizzbuzz(n):\n",
    "    for i in range(1, n + 1):\n",
    "        if i % 3 == 0 and i % 5 == 0:\n",
    "            print(\"FizzBuzz\")\n",
    "        elif i % 3 == 0:\n",
    "            print(\"Fizz\")\n",
    "        elif i % 5 == 0:\n",
    "            print(\"Buzz\")\n",
    "        else:\n",
    "            print(i)\n",
    "\n",
    "fizzbuzz(20)"
   ]
  },
  {
   "cell_type": "code",
   "execution_count": null,
   "id": "d63b31c5-cee2-4d80-9ca3-c2047b8d65fa",
   "metadata": {},
   "outputs": [],
   "source": [
    "#Ex2"
   ]
  },
  {
   "cell_type": "code",
   "execution_count": null,
   "id": "fd8ff0da-284c-4d01-bd14-6f39e14c34f5",
   "metadata": {},
   "outputs": [],
   "source": [
    "#Exercise 2: Basic Data Filtering\n",
    "#1. Create a List of Mixed Data Types: Create a list that contains a mix of integers, strings, and floats.\n",
    "#2. Filter the List: Use list comprehension to create a new list that contains only the integers from the original list.\n",
    "#3. Print the New List: Output the filtered list of integers."
   ]
  },
  {
   "cell_type": "code",
   "execution_count": 3,
   "id": "81db1c02-9623-4584-b2c8-e16747b0d62c",
   "metadata": {},
   "outputs": [
    {
     "name": "stdout",
     "output_type": "stream",
     "text": [
      "[1, 44, 7]\n"
     ]
    }
   ],
   "source": [
    "list = [1, \"Monday\", \"Python\", 3.14, 44, 7, 2.5]\n",
    "integer_list = [n for n in list if isinstance(n, int)]\n",
    "print(integer_list)"
   ]
  },
  {
   "cell_type": "code",
   "execution_count": null,
   "id": "a9fdc984-e959-45c9-8dd6-abbb6be31270",
   "metadata": {},
   "outputs": [],
   "source": [
    "#Ex3"
   ]
  },
  {
   "cell_type": "code",
   "execution_count": null,
   "id": "3179dd79-edc2-4bae-bd1f-b7d4654bdf5c",
   "metadata": {},
   "outputs": [],
   "source": [
    "#Create an Empty List: Start with an empty list called todo_list.\n",
    "#2. Define Functions:\n",
    "#○ A function add_task(task) that adds a task to the list.\n",
    "#○ A function show_tasks() that prints all tasks in the list."
   ]
  },
  {
   "cell_type": "code",
   "execution_count": 23,
   "id": "a0bcedc8-522f-41b1-a675-d7d0374f7bf5",
   "metadata": {},
   "outputs": [
    {
     "name": "stdout",
     "output_type": "stream",
     "text": [
      "Tasks:\n",
      "1. Python exercises\n",
      "2. Submit exercises\n",
      "3. Groceries\n"
     ]
    }
   ],
   "source": [
    "todo_list = []\n",
    "\n",
    "def add_task(task):\n",
    "    todo_list.append(task)\n",
    "\n",
    "def show_tasks():\n",
    "    if todo_list:\n",
    "        print(\"Tasks:\")\n",
    "        for index, task in enumerate(todo_list, start=1):\n",
    "            print(f\"{index}. {task}\")\n",
    "    else:\n",
    "        print(\"Empty list.\")\n",
    "\n",
    "# Example \n",
    "add_task(\"Python exercises\")\n",
    "add_task(\"Submit exercises\")\n",
    "add_task(\"Groceries\")\n",
    "show_tasks()"
   ]
  },
  {
   "cell_type": "code",
   "execution_count": null,
   "id": "263902e0-c44c-4971-aba5-cc70589d5c83",
   "metadata": {},
   "outputs": [],
   "source": [
    "#Ex4"
   ]
  },
  {
   "cell_type": "code",
   "execution_count": null,
   "id": "930463d3-ffb7-4f85-9761-e2945dec3f95",
   "metadata": {},
   "outputs": [],
   "source": [
    "#Define a Conversion Function: Write a function celsius_to_fahrenheit(celsius) that converts Celsius to Fahrenheit.\n",
    "#2. Print the Result: Output the converted temperature for 22oF, 46oF, 51oF and 76oF."
   ]
  },
  {
   "cell_type": "code",
   "execution_count": 33,
   "id": "e5d1a702-4a5f-40a6-9f00-8c9a6f6a3f21",
   "metadata": {},
   "outputs": [
    {
     "name": "stdout",
     "output_type": "stream",
     "text": [
      "22°C equals 71.6°F\n",
      "46°C equals 114.8°F\n",
      "51°C equals 123.8°F\n",
      "76°C equals 168.8°F\n"
     ]
    }
   ],
   "source": [
    "def celsius_to_fahrenheit(celsius):\n",
    "    return (celsius * 9/5) + 32\n",
    "\n",
    "temperatures_celsius = [22, 46, 51, 76]\n",
    "\n",
    "for temp in temperatures_celsius:\n",
    "    fahrenheit = celsius_to_fahrenheit(temp)\n",
    "    print(f\"{temp}°C equals {fahrenheit}°F\")"
   ]
  },
  {
   "cell_type": "code",
   "execution_count": null,
   "id": "1672add7-ea59-4de1-9900-39c6e1b2e926",
   "metadata": {},
   "outputs": [],
   "source": []
  }
 ],
 "metadata": {
  "kernelspec": {
   "display_name": "Python 3 (ipykernel)",
   "language": "python",
   "name": "python3"
  },
  "language_info": {
   "codemirror_mode": {
    "name": "ipython",
    "version": 3
   },
   "file_extension": ".py",
   "mimetype": "text/x-python",
   "name": "python",
   "nbconvert_exporter": "python",
   "pygments_lexer": "ipython3",
   "version": "3.12.4"
  }
 },
 "nbformat": 4,
 "nbformat_minor": 5
}
