{
 "cells": [
  {
   "cell_type": "code",
   "execution_count": null,
   "id": "ca979be0-0036-45d2-8e2d-3dc58bc753d1",
   "metadata": {},
   "outputs": [],
   "source": [
    "#Write a Python program that prints a greeting message, such as \"Hello, Python!\"."
   ]
  },
  {
   "cell_type": "code",
   "execution_count": 5,
   "id": "df56a6b5-4e37-43d2-931d-80c6e5e7827a",
   "metadata": {},
   "outputs": [
    {
     "name": "stdout",
     "output_type": "stream",
     "text": [
      "\"Hello, Python!\"\n"
     ]
    }
   ],
   "source": [
    "greetings = '\"Hello, Python!\"'\n",
    "\n",
    "print(greetings)"
   ]
  },
  {
   "cell_type": "code",
   "execution_count": null,
   "id": "9161fa3a-cb52-4d7b-b389-df2cd275bd11",
   "metadata": {},
   "outputs": [],
   "source": [
    "#Create a program that:\n",
    "#○ Defines two variables, a and b, with numerical values.\n",
    "#○ Prints their sum, difference, product, and quotient.\n"
   ]
  },
  {
   "cell_type": "code",
   "execution_count": 11,
   "id": "b9054d2a-8bf3-48bb-8094-66dd927cd90d",
   "metadata": {},
   "outputs": [
    {
     "name": "stdout",
     "output_type": "stream",
     "text": [
      "32\n",
      "14\n",
      "207\n",
      "2.5555555555555554\n"
     ]
    }
   ],
   "source": [
    "a = 23\n",
    "b = 9 \n",
    "\n",
    "print(a + b)\n",
    "print(a - b)\n",
    "print(a*b)\n",
    "print(a/b)"
   ]
  },
  {
   "cell_type": "code",
   "execution_count": null,
   "id": "209dddd9-6714-409a-83d0-b70b2a434e2e",
   "metadata": {},
   "outputs": [],
   "source": [
    "#Define a variable name and assign it your name. \n",
    "#Write a program that prints a message saying \"Hello, [name]!\" where [name] is the value of the variable."
   ]
  },
  {
   "cell_type": "code",
   "execution_count": 41,
   "id": "26a571e4-5dd7-44e9-b889-bf4ceb928880",
   "metadata": {},
   "outputs": [
    {
     "name": "stdout",
     "output_type": "stream",
     "text": [
      "Hello, Marcos!\n"
     ]
    }
   ],
   "source": [
    "name = 'Marcos'\n",
    "\n",
    "print(f'Hello, {name}!')"
   ]
  },
  {
   "cell_type": "code",
   "execution_count": null,
   "id": "d9180bf9-4c26-4379-9c26-94140aa44143",
   "metadata": {},
   "outputs": [],
   "source": [
    "#● Create a list called universities with at least five different university names.\n",
    "#● Print the entire list.\n",
    "#● Print the first and last university in the list."
   ]
  },
  {
   "cell_type": "code",
   "execution_count": 49,
   "id": "719f9d32-9459-43b0-a8f7-7463360f368f",
   "metadata": {},
   "outputs": [
    {
     "name": "stdout",
     "output_type": "stream",
     "text": [
      "['ESADE', 'UCLA', 'LSE', 'UPC', 'HEC']\n",
      "ESADE\n",
      "HEC\n"
     ]
    }
   ],
   "source": [
    "universities = ['ESADE', 'UCLA', 'LSE', 'UPC', 'HEC']\n",
    "\n",
    "print(universities)\n",
    "print(universities[0])\n",
    "print(universities[-1])"
   ]
  },
  {
   "cell_type": "code",
   "execution_count": null,
   "id": "414799d6-ba12-4da8-8e40-466635bf2572",
   "metadata": {},
   "outputs": [],
   "source": [
    "#Create a dictionary called student with keys: name, age, and grade, and assign appropriate values to each key.\n",
    "#● Write a program that prints each key-value pair in the dictionary."
   ]
  },
  {
   "cell_type": "code",
   "execution_count": 95,
   "id": "a343c417-1db6-4774-976a-d573fc94f71e",
   "metadata": {},
   "outputs": [
    {
     "data": {
      "text/plain": [
       "{'name': 'Marcos', 'age': '26', 'grade': 'A'}"
      ]
     },
     "execution_count": 95,
     "metadata": {},
     "output_type": "execute_result"
    }
   ],
   "source": [
    "student = {'name': 'Marcos', 'age':'26', 'grade':'A' }\n",
    "student"
   ]
  },
  {
   "cell_type": "code",
   "execution_count": null,
   "id": "868affcd-1c27-47f8-ac12-5090f1d02b85",
   "metadata": {},
   "outputs": [],
   "source": [
    "#Define a tuple called coordinates with two values representing a point in 2D space (e.g., (x, y)).\n",
    "#● Print the value of coordinates and access each element by its index.\n"
   ]
  },
  {
   "cell_type": "code",
   "execution_count": 105,
   "id": "2c33c02d-1696-4ed9-94d5-5d115ead98f3",
   "metadata": {},
   "outputs": [
    {
     "name": "stdout",
     "output_type": "stream",
     "text": [
      "value of coordinates: (23, 9)\n"
     ]
    }
   ],
   "source": [
    "coordinates = (23, 9)\n",
    "print('value of coordinates:',coordinates)"
   ]
  },
  {
   "cell_type": "code",
   "execution_count": 97,
   "id": "c928f09c-ceae-4f0a-ba73-b66fd95409f8",
   "metadata": {},
   "outputs": [
    {
     "data": {
      "text/plain": [
       "23"
      ]
     },
     "execution_count": 97,
     "metadata": {},
     "output_type": "execute_result"
    }
   ],
   "source": [
    "coordinates[0]"
   ]
  },
  {
   "cell_type": "code",
   "execution_count": 99,
   "id": "96ea54da-cacf-445e-bfdd-181e455b4da7",
   "metadata": {},
   "outputs": [
    {
     "data": {
      "text/plain": [
       "9"
      ]
     },
     "execution_count": 99,
     "metadata": {},
     "output_type": "execute_result"
    }
   ],
   "source": [
    "coordinates[1]"
   ]
  },
  {
   "cell_type": "code",
   "execution_count": null,
   "id": "19755de6-b87c-478c-95c9-2d8caa98ce0b",
   "metadata": {},
   "outputs": [],
   "source": [
    "#Create a set called colors with the values: \"red\", \"green\", \"blue\".\n",
    "#● Add another color to the set.\n",
    "#● Try adding a duplicate color and observe what happens.\n",
    "#● Print the set and remove one color from it.\n",
    "#● Create another set named light_colors and merge colors and light_colors."
   ]
  },
  {
   "cell_type": "code",
   "execution_count": 109,
   "id": "dec44157-0967-4f98-af1c-56cc5bf6618e",
   "metadata": {},
   "outputs": [
    {
     "data": {
      "text/plain": [
       "{'blue', 'green', 'orange', 'red'}"
      ]
     },
     "execution_count": 109,
     "metadata": {},
     "output_type": "execute_result"
    }
   ],
   "source": [
    "colors = {'red', 'green', 'blue'}\n",
    "\n",
    "colors.add('orange')\n",
    "\n",
    "colors"
   ]
  },
  {
   "cell_type": "code",
   "execution_count": 113,
   "id": "7e026fd5-fc42-44c7-bf66-03efc1cffd74",
   "metadata": {},
   "outputs": [
    {
     "data": {
      "text/plain": [
       "{'blue', 'green', 'orange', 'red'}"
      ]
     },
     "execution_count": 113,
     "metadata": {},
     "output_type": "execute_result"
    }
   ],
   "source": [
    "colors.add('red')\n",
    "\n",
    "colors\n",
    "\n",
    "#Duplicate items are not allowed"
   ]
  },
  {
   "cell_type": "code",
   "execution_count": 115,
   "id": "aa2993a2-8968-42ac-995a-61e88319d50b",
   "metadata": {},
   "outputs": [
    {
     "name": "stdout",
     "output_type": "stream",
     "text": [
      "{'green', 'blue', 'red', 'orange'}\n"
     ]
    }
   ],
   "source": [
    "print(colors)"
   ]
  },
  {
   "cell_type": "code",
   "execution_count": 117,
   "id": "eb77c41c-6955-47e7-9501-0910a49a62d4",
   "metadata": {},
   "outputs": [
    {
     "name": "stdout",
     "output_type": "stream",
     "text": [
      "{'blue', 'red', 'orange'}\n"
     ]
    }
   ],
   "source": [
    "colors.pop()\n",
    "\n",
    "print(colors)"
   ]
  },
  {
   "cell_type": "code",
   "execution_count": 119,
   "id": "cf40a826-3d0c-49f5-abc3-00debc94cefc",
   "metadata": {},
   "outputs": [
    {
     "data": {
      "text/plain": [
       "{'blue', 'orange', 'pink', 'red', 'white'}"
      ]
     },
     "execution_count": 119,
     "metadata": {},
     "output_type": "execute_result"
    }
   ],
   "source": [
    "light_colors = {'white', 'pink'}\n",
    "\n",
    "colors = colors.union(light_colors)\n",
    "\n",
    "colors"
   ]
  },
  {
   "cell_type": "code",
   "execution_count": null,
   "id": "6ac1f9ab-c37c-4d22-92af-e3c706035cd7",
   "metadata": {},
   "outputs": [],
   "source": [
    "#Write a program that:\n",
    "#○ Takes an input number from the user.\n",
    "#○ Checks if the number is positive, negative, or zero.\n",
    "#○ Prints an appropriate message based on the result."
   ]
  },
  {
   "cell_type": "code",
   "execution_count": 133,
   "id": "737e24be-11d8-4fd8-bb76-aae00f52d44a",
   "metadata": {},
   "outputs": [
    {
     "name": "stdin",
     "output_type": "stream",
     "text": [
      "enter a number: -2\n"
     ]
    },
    {
     "name": "stdout",
     "output_type": "stream",
     "text": [
      "negative number\n"
     ]
    }
   ],
   "source": [
    "Value_check = float(input('enter a number:'))\n",
    "if Value_check < 0:\n",
    "    print('negative number')\n",
    "elif Value_check > 0:\n",
    "    print('positive number')\n",
    "\n",
    "else:\n",
    "    print('zero')"
   ]
  },
  {
   "cell_type": "code",
   "execution_count": null,
   "id": "f04bd85e-b0ea-45a9-a2fe-f610a7cd5b1f",
   "metadata": {},
   "outputs": [],
   "source": [
    "#Create a list of numbers from 1 to 5.\n",
    "#● Use a for loop to iterate through the list and print each number."
   ]
  },
  {
   "cell_type": "code",
   "execution_count": 143,
   "id": "48e905dc-8da2-4f70-9e5d-e47d2a400721",
   "metadata": {},
   "outputs": [
    {
     "name": "stdout",
     "output_type": "stream",
     "text": [
      "1\n",
      "2\n",
      "3\n",
      "4\n",
      "5\n"
     ]
    }
   ],
   "source": [
    "numbers = list([num for num in range(1,6)])\n",
    "\n",
    "for number in numbers:\n",
    "    print(number)"
   ]
  },
  {
   "cell_type": "code",
   "execution_count": null,
   "id": "f024d8a1-8719-4165-a531-3d4f8d98e105",
   "metadata": {},
   "outputs": [],
   "source": [
    "#Write a program that uses a while loop to print numbers from 1 to 5.\n",
    "#● Ensure the loop terminates correctly."
   ]
  },
  {
   "cell_type": "code",
   "execution_count": 149,
   "id": "c834ddf6-dad8-4e22-807e-da3af395da3d",
   "metadata": {},
   "outputs": [
    {
     "name": "stdout",
     "output_type": "stream",
     "text": [
      "1\n",
      "2\n",
      "3\n",
      "4\n",
      "5\n"
     ]
    }
   ],
   "source": [
    "number = 1\n",
    "while number <= 5:\n",
    "   print(number)\n",
    "   number += 1"
   ]
  },
  {
   "cell_type": "code",
   "execution_count": null,
   "id": "2117ba66-75e7-4ce5-9a47-f495ae4db73f",
   "metadata": {},
   "outputs": [],
   "source": [
    "#Write a program that:\n",
    "#○ Asks the user to input a grade (e.g., \"A\", \"B\", \"C\", \"D\", or \"F\").\n",
    "#○ Use a match statement to print a corresponding message for each grade:\n",
    "#■ \"A\": \"Excellent!\"\n",
    "#■ \"B\": \"Good job!\"\n",
    "#■ \"C\": \"Fair.\"\n",
    "#■ \"D\": \"Needs improvement.\"\n",
    "#■ \"F\": \"Failing.\"\n",
    "#○ Handle invalid input by printing a default message."
   ]
  },
  {
   "cell_type": "code",
   "execution_count": 169,
   "id": "81532f5d-14ce-41f8-82e9-5ef4387ac53b",
   "metadata": {},
   "outputs": [
    {
     "name": "stdin",
     "output_type": "stream",
     "text": [
      "Enter a grade (A, B, C, D, or F):  w\n"
     ]
    },
    {
     "name": "stdout",
     "output_type": "stream",
     "text": [
      "Invalid input.\n"
     ]
    }
   ],
   "source": [
    "grade = input(\"Enter a grade (A, B, C, D, or F): \").upper().strip()\n",
    "\n",
    "\n",
    "match grade:\n",
    "    case \"A\":\n",
    "        print(\"Excellent!\")\n",
    "    case \"B\":\n",
    "        print(\"Good job!\")\n",
    "    case \"C\":\n",
    "        print(\"Fair.\")\n",
    "    case \"D\":\n",
    "        print(\"Needs improvement.\")\n",
    "    case \"F\":\n",
    "        print(\"Failing.\")\n",
    "    case _:\n",
    "        print(\"Invalid input.\")"
   ]
  },
  {
   "cell_type": "code",
   "execution_count": null,
   "id": "a83d272b-3bd4-4e18-b248-35cc595e7fe9",
   "metadata": {},
   "outputs": [],
   "source": [
    "#Write a function called greet that takes a name as an argument and prints \"Hello, [name]!\".\n",
    "#● Call the function with your own name."
   ]
  },
  {
   "cell_type": "code",
   "execution_count": 175,
   "id": "dcd331f3-28b8-44fd-b8a8-22b7061b6c6c",
   "metadata": {},
   "outputs": [
    {
     "name": "stdout",
     "output_type": "stream",
     "text": [
      "Hello, Marcos!\n"
     ]
    }
   ],
   "source": [
    "def greet(name): \n",
    "  print(f\"Hello, {name}!\")\n",
    "\n",
    "greet('Marcos')"
   ]
  },
  {
   "cell_type": "code",
   "execution_count": null,
   "id": "8a3567de-1038-47ba-ae82-c6e2dde1b593",
   "metadata": {},
   "outputs": [],
   "source": [
    "#Define a function called square that takes a number as an argument and returns its square.\n",
    "#● Print the result of calling this function with different numbers."
   ]
  },
  {
   "cell_type": "code",
   "execution_count": 183,
   "id": "cabe6a28-43d0-4e55-a92b-4fa86ab2ac2d",
   "metadata": {},
   "outputs": [
    {
     "name": "stdout",
     "output_type": "stream",
     "text": [
      "20.25\n",
      "25\n",
      "0\n"
     ]
    }
   ],
   "source": [
    "def square(number):\n",
    "    return number ** 2\n",
    "\n",
    "\n",
    "print(square(4.5))  \n",
    "print(square(-5))  \n",
    "print(square(0))   "
   ]
  },
  {
   "cell_type": "code",
   "execution_count": null,
   "id": "3c2b6657-3565-407f-a89d-7b9dfa4b5239",
   "metadata": {},
   "outputs": [],
   "source": [
    "#Write a function called multiply that takes two parameters, a and b, and returns their product. Set a default value of 1 for the parameter b.\n",
    "#● Test the function with and without providing the second argument."
   ]
  },
  {
   "cell_type": "code",
   "execution_count": 189,
   "id": "c7d83c7a-87ed-4887-b203-69e299c571a8",
   "metadata": {},
   "outputs": [
    {
     "name": "stdout",
     "output_type": "stream",
     "text": [
      "20\n",
      "2\n"
     ]
    }
   ],
   "source": [
    "def multiply(a, b=1):\n",
    "    return a*b\n",
    "\n",
    "print(multiply(4, 5))\n",
    "print(multiply(2))"
   ]
  },
  {
   "cell_type": "code",
   "execution_count": null,
   "id": "1415c716-c39c-4d37-bdf5-dbb34806d888",
   "metadata": {},
   "outputs": [],
   "source": [
    "#Create a list of numbers from 1 to 10.\n",
    "#● Use list comprehension to create a new list that contains the squares of these numbers.\n",
    "#● Print the new list."
   ]
  },
  {
   "cell_type": "code",
   "execution_count": 197,
   "id": "1b1b747a-d009-4275-abf9-b9a7faa96272",
   "metadata": {},
   "outputs": [
    {
     "name": "stdout",
     "output_type": "stream",
     "text": [
      "[1, 4, 9, 16, 25, 36, 49, 64, 81, 100]\n"
     ]
    }
   ],
   "source": [
    "numbers = list(range(1, 11))\n",
    "squared_numbers = []\n",
    "for num in numbers:\n",
    "    squared_numbers.append(num ** 2)\n",
    "print(squared_numbers)\n"
   ]
  },
  {
   "cell_type": "code",
   "execution_count": null,
   "id": "ae6863c5-7de2-46d6-a3e9-b17ac60e6f3b",
   "metadata": {},
   "outputs": [],
   "source": [
    "#Create a dictionary where the keys are names of students and the values are lists of their grades.\n",
    "#● Write a function that takes the dictionary and prints the average grade for each student."
   ]
  },
  {
   "cell_type": "code",
   "execution_count": 203,
   "id": "a6580ba2-ea5a-4ee1-9f32-29e86a615685",
   "metadata": {},
   "outputs": [
    {
     "name": "stdout",
     "output_type": "stream",
     "text": [
      "Marcos = 85.00\n",
      "Pamela = 81.00\n",
      "Cobo = 76.00\n",
      "Annelijne = 87.67\n"
     ]
    }
   ],
   "source": [
    "results = {\n",
    "    \"Marcos\": [85, 92, 78],\n",
    "    \"Pamela\": [92, 56, 95],\n",
    "    \"Cobo\": [70, 75, 83],\n",
    "    \"Annelijne\": [100, 65, 98]\n",
    "}\n",
    "\n",
    "def average_grades(grades_dict):\n",
    "    for student, grades in grades_dict.items():\n",
    "            average = sum(grades) / len(grades)\n",
    "            print(f\"{student} = {average:.2f}\")\n",
    "\n",
    "average_grades(results)"
   ]
  },
  {
   "cell_type": "code",
   "execution_count": null,
   "id": "0b14a0fa-11ed-4e01-880f-f34dad140f9c",
   "metadata": {},
   "outputs": [],
   "source": [
    "#Write a program that:\n",
    "#○ Defines a function calculate which takes three parameters: two numbers and an operator (+, -, *, /).\n",
    "#○ Performs the operation and returns the result.\n",
    "#○ Ask the user for the two numbers and the operator, then call the function and print the result."
   ]
  },
  {
   "cell_type": "code",
   "execution_count": null,
   "id": "3bca28ea-6c6b-4a4e-b524-ffa7feb96b5c",
   "metadata": {},
   "outputs": [],
   "source": [
    "def calculate(num1, num2, operator):\n",
    "    if operator == '+':\n",
    "        return num1 + num2\n",
    "    elif operator == '-':\n",
    "        return num1 - num2\n",
    "    elif operator == '*':\n",
    "        return num1 * num2\n",
    "    elif operator == '/':\n",
    "        if num2 == 0:\n",
    "            return \"Error: Division by zero is not allowed.\"\n",
    "        return num1 / num2\n",
    "    else:\n",
    "        return \"Error: Invalid operator.\"\n",
    "\n",
    "def main():\n",
    "    try:\n",
    "        num1 = float(input(\"Enter the first number: \"))\n",
    "        num2 = float(input(\"Enter the second number: \"))\n",
    "        operator = input(\"Enter the operator (+, -, *, /): \")\n",
    "\n",
    "        result = calculate(num1, num2, operator)\n",
    "        print(\"The result is:\", result)\n",
    "    except ValueError:\n",
    "        print(\"Error: Please enter valid numbers.\")\n",
    "\n",
    "if __name__ == \"__main__\":\n",
    "    main()"
   ]
  }
 ],
 "metadata": {
  "kernelspec": {
   "display_name": "Python 3 (ipykernel)",
   "language": "python",
   "name": "python3"
  },
  "language_info": {
   "codemirror_mode": {
    "name": "ipython",
    "version": 3
   },
   "file_extension": ".py",
   "mimetype": "text/x-python",
   "name": "python",
   "nbconvert_exporter": "python",
   "pygments_lexer": "ipython3",
   "version": "3.12.4"
  }
 },
 "nbformat": 4,
 "nbformat_minor": 5
}
